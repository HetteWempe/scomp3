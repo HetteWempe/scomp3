{
 "cells": [
  {
   "cell_type": "markdown",
   "metadata": {},
   "source": [
    "EXERCISE 3.2"
   ]
  },
  {
   "cell_type": "code",
   "execution_count": 70,
   "metadata": {},
   "outputs": [],
   "source": [
    "import numpy as np \n",
    "import scipy.linalg as lin\n",
    "import scipy.sparse as sp\n",
    "import matplotlib.pyplot as plt"
   ]
  },
  {
   "cell_type": "code",
   "execution_count": 85,
   "metadata": {},
   "outputs": [],
   "source": [
    "# radius is set tot 2\n",
    "\n",
    "# n = 41 makes the spacing nice; n = 21 is another options.\n",
    "# In general, the spacing has to be chosen s.t. the source coordinate can be recognized.\n",
    "#  \n",
    "\n",
    "def laplacian_circle_matrix(n): \n",
    "    N = n * n  \n",
    "    laplacian = np.zeros((N, N)) \n",
    "    points_within_boundary = []\n",
    "    \n",
    "    x = np.linspace(-2, 2, n)\n",
    "    y = np.linspace(-2, 2, n)\n",
    "    \n",
    "\n",
    "    # This as all the same as in 3.1:\n",
    "    for i in range(n):\n",
    "        for j in range(n):\n",
    "            if x[i]**2 + y[j]**2 <= 4:\n",
    "                index = i * n + j  # corresponding index in the stacked vector\n",
    "                points_within_boundary.append(index)\n",
    "    \n",
    "    for i in range(N):  \n",
    "        if i in points_within_boundary:  \n",
    "            laplacian[i, i] = -4  \n",
    "\n",
    "        if (i - 1 in points_within_boundary) and (i % n) != 0:\n",
    "            laplacian[i, i - 1] = 1\n",
    "            laplacian[i - 1, i] = 1 \n",
    "\n",
    "        if (i + 1 in points_within_boundary) and ((i + 1) % n) != 0:\n",
    "            laplacian[i, i + 1] = 1\n",
    "            laplacian[i + 1, i] = 1  \n",
    "\n",
    "        if (i - n in points_within_boundary):\n",
    "            laplacian[i, i - n] = 1\n",
    "            laplacian[i - n, i] = 1  \n",
    "\n",
    "        if (i + n in points_within_boundary):\n",
    "            laplacian[i, i + n] = 1\n",
    "            laplacian[i + n, i] = 1\n",
    "\n",
    "    # We also need to incorporate the source, this means overwriting 1 row in the matrix:\n",
    "    index_source_row =  np.where(np.isclose(x,0.6))[0]*n + np.where(np.isclose(y,1.2))[0] #There really should be a way to make this cleaner\n",
    "    laplacian[index_source_row,:] = 0\n",
    "    laplacian[index_source_row,index_source_row] = 1\n",
    "\n",
    "    return points_within_boundary\n"
   ]
  },
  {
   "cell_type": "markdown",
   "metadata": {},
   "source": []
  },
  {
   "cell_type": "code",
   "execution_count": 73,
   "metadata": {},
   "outputs": [],
   "source": [
    "# Let M equal to matrix returned by the function above. b = (0,0,...,0,1,0,...,0,0), more carefully defined in the report.\n",
    "# We now solve Mc = b\n",
    "# We first consider the system for n = 21\n",
    "\n",
    "x = np.linspace(-2, 2, 21)\n",
    "y = np.linspace(-2, 2, 21)\n",
    "\n",
    "b = np.zeros(441)\n",
    "b[np.where(np.isclose(x,0.6))[0]*21 + np.where(np.isclose(y,1.2))[0]] = 1\n",
    "\n",
    "M = laplacian_circle_matrix(21)"
   ]
  },
  {
   "cell_type": "markdown",
   "metadata": {},
   "source": [
    "==================================================================================================================================================="
   ]
  },
  {
   "cell_type": "markdown",
   "metadata": {},
   "source": [
    "HERE, WE TRY TO SOLVE THE PROBLEM USING METHOD (1) OF THE HINT"
   ]
  },
  {
   "cell_type": "code",
   "execution_count": 136,
   "metadata": {},
   "outputs": [],
   "source": [
    "#DEZE IS VOLGENS MIJ GOED!!!!!!!!!!!!!!!!!!\n",
    "\n",
    "def laplacian_circle_fix(n,L):\n",
    "    R = L/2  \n",
    "    coordinates_in_circle = [] \n",
    "\n",
    "    x = np.linspace(-R,R,n)\n",
    "    y = np.linspace(-R,R,n)\n",
    "\n",
    "    for i in range(n):\n",
    "        for j in range(n):\n",
    "            if x[i]**2 + y[j]**2 <= R**2:\n",
    "                coordinates_in_circle.append((i,j))\n",
    "\n",
    "    dim = len(coordinates_in_circle) \n",
    "    matrix_M = np.zeros((dim,dim)) \n",
    "    \n",
    "    for count in range(dim):\n",
    "        matrix_M[count,count] = -4 \n",
    "        \n",
    "        neighbor_check = coordinates_in_circle[count]\n",
    "        if((neighbor_check[0],neighbor_check[1]+1) in coordinates_in_circle):\n",
    "            loca = coordinates_in_circle.index((neighbor_check[0],neighbor_check[1]+1))\n",
    "            matrix_M[count, loca] = 1\n",
    "\n",
    "        if((neighbor_check[0],neighbor_check[1]-1) in coordinates_in_circle):\n",
    "            loca = coordinates_in_circle.index((neighbor_check[0],neighbor_check[1]-1))\n",
    "            matrix_M[count, loca] = 1\n",
    "\n",
    "        if((neighbor_check[0]+1,neighbor_check[1]) in coordinates_in_circle):\n",
    "            loca = coordinates_in_circle.index((neighbor_check[0]+1,neighbor_check[1]))\n",
    "            matrix_M[count, loca] = 1\n",
    "\n",
    "        if((neighbor_check[0]-1,neighbor_check[1]) in coordinates_in_circle):\n",
    "            loca = coordinates_in_circle.index((neighbor_check[0]-1,neighbor_check[1]))\n",
    "            matrix_M[count, loca] = 1\n",
    "\n",
    "    return matrix_M"
   ]
  },
  {
   "cell_type": "code",
   "execution_count": null,
   "metadata": {},
   "outputs": [],
   "source": [
    "#now L is fixed to fixed to 4 and a source is added let n=21 or 41 s.t the source at (0.6,1.2) is identified.\n",
    "\n",
    "def laplacian_circle_fix_2(n,L):\n",
    "    R = L/2  \n",
    "    coordinates_in_circle = [] \n",
    "\n",
    "    x = np.linspace(-R,R,n)\n",
    "    y = np.linspace(-R,R,n)\n",
    "\n",
    "    for i in range(n):\n",
    "        for j in range(n):\n",
    "            if x[i]**2 + y[j]**2 <= R**2:\n",
    "                coordinates_in_circle.append((j,i))\n",
    "\n",
    "    dim = len(coordinates_in_circle) \n",
    "    matrix_M = np.zeros((dim,dim)) \n",
    "    \n",
    "    for count in range(dim):\n",
    "        matrix_M[count,count] = -4 \n",
    "        \n",
    "        neighbor_check = coordinates_in_circle[count]\n",
    "        if((neighbor_check[0],neighbor_check[1]+1) in coordinates_in_circle):\n",
    "            loca = coordinates_in_circle.index((neighbor_check[0],neighbor_check[1]+1))\n",
    "            matrix_M[count, loca] = 1\n",
    "\n",
    "        if((neighbor_check[0],neighbor_check[1]-1) in coordinates_in_circle):\n",
    "            loca = coordinates_in_circle.index((neighbor_check[0],neighbor_check[1]-1))\n",
    "            matrix_M[count, loca] = 1\n",
    "\n",
    "        if((neighbor_check[0]+1,neighbor_check[1]) in coordinates_in_circle):\n",
    "            loca = coordinates_in_circle.index((neighbor_check[0]+1,neighbor_check[1]))\n",
    "            matrix_M[count, loca] = 1\n",
    "\n",
    "        if((neighbor_check[0]-1,neighbor_check[1]) in coordinates_in_circle):\n",
    "            loca = coordinates_in_circle.index((neighbor_check[0]-1,neighbor_check[1]))\n",
    "            matrix_M[count, loca] = 1\n",
    "\n",
    "    x_source = np.abs(x+1.2).argmin() # note that these are in the circle for sure. Also, note that this way of source finding makes sure a source is \n",
    "    y_source = np.abs(y-0.6).argmin() # also included in case the discretization does not match (0.6,1.2) exactly.\n",
    "    source = coordinates_in_circle.index((x_source,y_source))\n",
    "    matrix_M[source,:] = 0\n",
    "    matrix_M[source,source] = 1\n",
    "\n",
    "    return matrix_M,coordinates_in_circle"
   ]
  },
  {
   "cell_type": "code",
   "execution_count": 238,
   "metadata": {},
   "outputs": [
    {
     "data": {
      "text/plain": [
       "array([[-4.,  0.,  1.,  0.,  0.,  0.,  0.,  0.,  0.,  0.,  0.,  0.,  0.],\n",
       "       [ 0., -4.,  1.,  0.,  0.,  1.,  0.,  0.,  0.,  0.,  0.,  0.,  0.],\n",
       "       [ 1.,  1., -4.,  1.,  0.,  0.,  1.,  0.,  0.,  0.,  0.,  0.,  0.],\n",
       "       [ 0.,  0.,  0.,  1.,  0.,  0.,  0.,  0.,  0.,  0.,  0.,  0.,  0.],\n",
       "       [ 0.,  0.,  0.,  0., -4.,  1.,  0.,  0.,  0.,  0.,  0.,  0.,  0.],\n",
       "       [ 0.,  1.,  0.,  0.,  1., -4.,  1.,  0.,  0.,  1.,  0.,  0.,  0.],\n",
       "       [ 0.,  0.,  1.,  0.,  0.,  1., -4.,  1.,  0.,  0.,  1.,  0.,  0.],\n",
       "       [ 0.,  0.,  0.,  1.,  0.,  0.,  1., -4.,  1.,  0.,  0.,  1.,  0.],\n",
       "       [ 0.,  0.,  0.,  0.,  0.,  0.,  0.,  1., -4.,  0.,  0.,  0.,  0.],\n",
       "       [ 0.,  0.,  0.,  0.,  0.,  1.,  0.,  0.,  0., -4.,  1.,  0.,  0.],\n",
       "       [ 0.,  0.,  0.,  0.,  0.,  0.,  1.,  0.,  0.,  1., -4.,  1.,  1.],\n",
       "       [ 0.,  0.,  0.,  0.,  0.,  0.,  0.,  1.,  0.,  0.,  1., -4.,  0.],\n",
       "       [ 0.,  0.,  0.,  0.,  0.,  0.,  0.,  0.,  0.,  0.,  1.,  0., -4.]])"
      ]
     },
     "execution_count": 238,
     "metadata": {},
     "output_type": "execute_result"
    }
   ],
   "source": [
    "laplacian_circle_fix_2(5,4)[0]"
   ]
  },
  {
   "cell_type": "code",
   "execution_count": 248,
   "metadata": {},
   "outputs": [
    {
     "data": {
      "text/plain": [
       "array([[0., 0., 0., ..., 0., 0., 0.],\n",
       "       [0., 0., 0., ..., 0., 0., 0.],\n",
       "       [0., 0., 0., ..., 0., 0., 0.],\n",
       "       ...,\n",
       "       [0., 0., 0., ..., 0., 0., 0.],\n",
       "       [0., 0., 0., ..., 0., 0., 0.],\n",
       "       [0., 0., 0., ..., 0., 0., 0.]], shape=(100, 100))"
      ]
     },
     "execution_count": 248,
     "metadata": {},
     "output_type": "execute_result"
    }
   ],
   "source": [
    "HHH = laplacian_circle_fix_2(100,4)[0] #change n here\n",
    "\n",
    "b = np.zeros(len(HHH))\n",
    "b[np.where(np.diag(HHH) == 1)] = 1\n",
    "\n",
    "solution_c = lin.solve(HHH, b)\n",
    "\n",
    "point_in_circle = laplacian_circle_fix_2(100,4)[1] #change n also here\n",
    "\n",
    "\n",
    "n = 100 #change this to whatever we like\n",
    "\n",
    "heatmap_matrix = np.zeros((n,n))\n",
    "\n",
    "for i in range(n):\n",
    "    for j in range(n):\n",
    "        if((i,j) in point_in_circle):\n",
    "            JJJ = point_in_circle.index((i,j))\n",
    "            heatmap_matrix[i,j] = solution_c[JJJ]\n",
    "\n",
    "heatmap_matrix"
   ]
  },
  {
   "cell_type": "markdown",
   "metadata": {},
   "source": [
    "Now, We visualzie the solution in a heatmap"
   ]
  },
  {
   "cell_type": "code",
   "execution_count": 249,
   "metadata": {},
   "outputs": [
    {
     "data": {
      "image/png": "[encoded data removed]",
      "text/plain": [
       "<Figure size 640x480 with 2 Axes>"
      ]
     },
     "metadata": {},
     "output_type": "display_data"
    }
   ],
   "source": [
    "plt.imshow(heatmap_matrix,cmap='hot',extent=[-2,2,-2,2])\n",
    "plt.xlabel('x',size=12)\n",
    "plt.ylabel('y',size=12)\n",
    "plt.title('Heatmap for steady state',size=14)\n",
    "plt.colorbar(label='Concentration')\n",
    "plt.show()"
   ]
  }
 ],
 "metadata": {
  "kernelspec": {
   "display_name": "Python 3",
   "language": "python",
   "name": "python3"
  },
  "language_info": {
   "codemirror_mode": {
    "name": "ipython",
    "version": 3
   },
   "file_extension": ".py",
   "mimetype": "text/x-python",
   "name": "python",
   "nbconvert_exporter": "python",
   "pygments_lexer": "ipython3",
   "version": "3.11.1"
  }
 },
 "nbformat": 4,
 "nbformat_minor": 2
}
