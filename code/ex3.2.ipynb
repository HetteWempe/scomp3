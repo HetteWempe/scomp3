{
 "cells": [
  {
   "cell_type": "markdown",
   "metadata": {},
   "source": [
    "EXERCISE 3.2"
   ]
  },
  {
   "cell_type": "code",
   "execution_count": 70,
   "metadata": {},
   "outputs": [],
   "source": [
    "import numpy as np \n",
    "import scipy.linalg as lin\n",
    "import scipy.sparse as sp\n",
    "import matplotlib.pyplot as plt"
   ]
  },
  {
   "cell_type": "code",
   "execution_count": 85,
   "metadata": {},
   "outputs": [],
   "source": [
    "# radius is set tot 2\n",
    "\n",
    "# n = 41 makes the spacing nice; n = 21 is another options.\n",
    "# In general, the spacing has to be chosen s.t. the source coordinate can be recognized.\n",
    "#  \n",
    "\n",
    "def laplacian_circle_matrix(n): \n",
    "    N = n * n  \n",
    "    laplacian = np.zeros((N, N)) \n",
    "    points_within_boundary = []\n",
    "    \n",
    "    x = np.linspace(-2, 2, n)\n",
    "    y = np.linspace(-2, 2, n)\n",
    "    \n",
    "\n",
    "    # This as all the same as in 3.1:\n",
    "    for i in range(n):\n",
    "        for j in range(n):\n",
    "            if x[i]**2 + y[j]**2 <= 4:\n",
    "                index = i * n + j  # corresponding index in the stacked vector\n",
    "                points_within_boundary.append(index)\n",
    "    \n",
    "    for i in range(N):  \n",
    "        if i in points_within_boundary:  \n",
    "            laplacian[i, i] = -4  \n",
    "\n",
    "        if (i - 1 in points_within_boundary) and (i % n) != 0:\n",
    "            laplacian[i, i - 1] = 1\n",
    "            laplacian[i - 1, i] = 1 \n",
    "\n",
    "        if (i + 1 in points_within_boundary) and ((i + 1) % n) != 0:\n",
    "            laplacian[i, i + 1] = 1\n",
    "            laplacian[i + 1, i] = 1  \n",
    "\n",
    "        if (i - n in points_within_boundary):\n",
    "            laplacian[i, i - n] = 1\n",
    "            laplacian[i - n, i] = 1  \n",
    "\n",
    "        if (i + n in points_within_boundary):\n",
    "            laplacian[i, i + n] = 1\n",
    "            laplacian[i + n, i] = 1\n",
    "\n",
    "    # We also need to incorporate the source, this means overwriting 1 row in the matrix:\n",
    "    index_source_row =  np.where(np.isclose(x,0.6))[0]*n + np.where(np.isclose(y,1.2))[0] #There really should be a way to make this cleaner\n",
    "    laplacian[index_source_row,:] = 0\n",
    "    laplacian[index_source_row,index_source_row] = 1\n",
    "\n",
    "    return points_within_boundary\n"
   ]
  },
  {
   "cell_type": "markdown",
   "metadata": {},
   "source": []
  },
  {
   "cell_type": "code",
   "execution_count": 73,
   "metadata": {},
   "outputs": [],
   "source": [
    "# Let M equal to matrix returned by the function above. b = (0,0,...,0,1,0,...,0,0), more carefully defined in the report.\n",
    "# We now solve Mc = b\n",
    "# We first consider the system for n = 21\n",
    "\n",
    "x = np.linspace(-2, 2, 21)\n",
    "y = np.linspace(-2, 2, 21)\n",
    "\n",
    "b = np.zeros(441)\n",
    "b[np.where(np.isclose(x,0.6))[0]*21 + np.where(np.isclose(y,1.2))[0]] = 1\n",
    "\n",
    "M = laplacian_circle_matrix(21)"
   ]
  },
  {
   "cell_type": "code",
   "execution_count": 74,
   "metadata": {},
   "outputs": [
    {
     "ename": "LinAlgError",
     "evalue": "Matrix is singular.",
     "output_type": "error",
     "traceback": [
      "\u001b[1;31m---------------------------------------------------------------------------\u001b[0m",
      "\u001b[1;31mLinAlgError\u001b[0m                               Traceback (most recent call last)",
      "Cell \u001b[1;32mIn[74], line 1\u001b[0m\n\u001b[1;32m----> 1\u001b[0m \u001b[43mlin\u001b[49m\u001b[38;5;241;43m.\u001b[39;49m\u001b[43msolve\u001b[49m\u001b[43m(\u001b[49m\u001b[43mM\u001b[49m\u001b[43m,\u001b[49m\u001b[43mb\u001b[49m\u001b[43m)\u001b[49m\n",
      "File \u001b[1;32m~\\AppData\\Roaming\\Python\\Python311\\site-packages\\scipy\\linalg\\_basic.py:290\u001b[0m, in \u001b[0;36msolve\u001b[1;34m(a, b, lower, overwrite_a, overwrite_b, check_finite, assume_a, transposed)\u001b[0m\n\u001b[0;32m    285\u001b[0m     lwork \u001b[38;5;241m=\u001b[39m _compute_lwork(sysv_lw, n, lower)\n\u001b[0;32m    286\u001b[0m     lu, ipvt, x, info \u001b[38;5;241m=\u001b[39m sysv(a1, b1, lwork\u001b[38;5;241m=\u001b[39mlwork,\n\u001b[0;32m    287\u001b[0m                              lower\u001b[38;5;241m=\u001b[39mlower,\n\u001b[0;32m    288\u001b[0m                              overwrite_a\u001b[38;5;241m=\u001b[39moverwrite_a,\n\u001b[0;32m    289\u001b[0m                              overwrite_b\u001b[38;5;241m=\u001b[39moverwrite_b)\n\u001b[1;32m--> 290\u001b[0m     \u001b[43m_solve_check\u001b[49m\u001b[43m(\u001b[49m\u001b[43mn\u001b[49m\u001b[43m,\u001b[49m\u001b[43m \u001b[49m\u001b[43minfo\u001b[49m\u001b[43m)\u001b[49m\n\u001b[0;32m    291\u001b[0m     rcond, info \u001b[38;5;241m=\u001b[39m sycon(lu, ipvt, anorm)\n\u001b[0;32m    292\u001b[0m \u001b[38;5;66;03m# Diagonal case\u001b[39;00m\n",
      "File \u001b[1;32m~\\AppData\\Roaming\\Python\\Python311\\site-packages\\scipy\\linalg\\_basic.py:42\u001b[0m, in \u001b[0;36m_solve_check\u001b[1;34m(n, info, lamch, rcond)\u001b[0m\n\u001b[0;32m     40\u001b[0m     \u001b[38;5;28;01mraise\u001b[39;00m \u001b[38;5;167;01mValueError\u001b[39;00m(\u001b[38;5;124mf\u001b[39m\u001b[38;5;124m'\u001b[39m\u001b[38;5;124mLAPACK reported an illegal value in \u001b[39m\u001b[38;5;132;01m{\u001b[39;00m\u001b[38;5;241m-\u001b[39minfo\u001b[38;5;132;01m}\u001b[39;00m\u001b[38;5;124m-th argument.\u001b[39m\u001b[38;5;124m'\u001b[39m)\n\u001b[0;32m     41\u001b[0m \u001b[38;5;28;01melif\u001b[39;00m \u001b[38;5;241m0\u001b[39m \u001b[38;5;241m<\u001b[39m info:\n\u001b[1;32m---> 42\u001b[0m     \u001b[38;5;28;01mraise\u001b[39;00m LinAlgError(\u001b[38;5;124m'\u001b[39m\u001b[38;5;124mMatrix is singular.\u001b[39m\u001b[38;5;124m'\u001b[39m)\n\u001b[0;32m     44\u001b[0m \u001b[38;5;28;01mif\u001b[39;00m lamch \u001b[38;5;129;01mis\u001b[39;00m \u001b[38;5;28;01mNone\u001b[39;00m:\n\u001b[0;32m     45\u001b[0m     \u001b[38;5;28;01mreturn\u001b[39;00m\n",
      "\u001b[1;31mLinAlgError\u001b[0m: Matrix is singular."
     ]
    }
   ],
   "source": [
    "lin.solve(M,b)"
   ]
  },
  {
   "cell_type": "markdown",
   "metadata": {},
   "source": [
    "==================================================================================================================================================="
   ]
  },
  {
   "cell_type": "markdown",
   "metadata": {},
   "source": [
    "HERE, WE TRY TO SOLVE THE PROBLEM USING METHOD ONE OF THE HINT"
   ]
  },
  {
   "cell_type": "code",
   "execution_count": null,
   "metadata": {},
   "outputs": [],
   "source": [
    "#DEZE IS VOLGENS MIJ GOED!!!!!!!!!!!!!!!!!!\n",
    "\n",
    "def laplacian_circle_fix(n, L):\n",
    "    R = L/2  \n",
    "    coordinates_in_circle = [] \n",
    "    dictionary_storing = {} \n",
    "\n",
    "    x = np.linspace(-R, R, n)\n",
    "    y = np.linspace(-R, R, n)\n",
    "\n",
    "    count = 0 \n",
    "    for i in range(n):\n",
    "        for j in range(n):\n",
    "            if x[i]**2 + y[j]**2 <= R**2:\n",
    "                coordinates_in_circle.append((i, j))\n",
    "                dictionary_storing[(i, j)] = count\n",
    "                count += 1\n",
    "\n",
    "    dim = len(coordinates_in_circle) \n",
    "    matrix_M = np.zeros((dim, dim)) \n",
    "\n",
    "    for count, (i, j) in enumerate(coordinates_in_circle):\n",
    "        matrix_M[count, count] = -4 \n",
    "        for a, b in [(-1, 0), (1, 0), (0, -1), (0, 1)]: \n",
    "            aa, bb = i + a, j + b\n",
    "            if (aa, bb) in dictionary_storing: \n",
    "                neighbor_index = dictionary_storing[(aa, bb)]\n",
    "                matrix_M[count, neighbor_index] = 1\n",
    "\n",
    "    return matrix_M"
   ]
  },
  {
   "cell_type": "code",
   "execution_count": 99,
   "metadata": {},
   "outputs": [
    {
     "data": {
      "text/plain": [
       "array([[-4.,  0.,  1.,  0.,  0.,  0.,  0.,  0.,  0.,  0.,  0.,  0.,  0.],\n",
       "       [ 0., -4.,  1.,  0.,  0.,  1.,  0.,  0.,  0.,  0.,  0.,  0.,  0.],\n",
       "       [ 1.,  1., -4.,  1.,  0.,  0.,  1.,  0.,  0.,  0.,  0.,  0.,  0.],\n",
       "       [ 0.,  0.,  1., -4.,  0.,  0.,  0.,  1.,  0.,  0.,  0.,  0.,  0.],\n",
       "       [ 0.,  0.,  0.,  0., -4.,  1.,  0.,  0.,  0.,  0.,  0.,  0.,  0.],\n",
       "       [ 0.,  1.,  0.,  0.,  1., -4.,  1.,  0.,  0.,  1.,  0.,  0.,  0.],\n",
       "       [ 0.,  0.,  1.,  0.,  0.,  1., -4.,  1.,  0.,  0.,  1.,  0.,  0.],\n",
       "       [ 0.,  0.,  0.,  1.,  0.,  0.,  1., -4.,  1.,  0.,  0.,  1.,  0.],\n",
       "       [ 0.,  0.,  0.,  0.,  0.,  0.,  0.,  1., -4.,  0.,  0.,  0.,  0.],\n",
       "       [ 0.,  0.,  0.,  0.,  0.,  1.,  0.,  0.,  0., -4.,  1.,  0.,  0.],\n",
       "       [ 0.,  0.,  0.,  0.,  0.,  0.,  1.,  0.,  0.,  1., -4.,  1.,  1.],\n",
       "       [ 0.,  0.,  0.,  0.,  0.,  0.,  0.,  1.,  0.,  0.,  1., -4.,  0.],\n",
       "       [ 0.,  0.,  0.,  0.,  0.,  0.,  0.,  0.,  0.,  0.,  1.,  0., -4.]])"
      ]
     },
     "execution_count": 99,
     "metadata": {},
     "output_type": "execute_result"
    }
   ],
   "source": [
    "laplacian_circle_fix(5,1)"
   ]
  }
 ],
 "metadata": {
  "kernelspec": {
   "display_name": "Python 3",
   "language": "python",
   "name": "python3"
  },
  "language_info": {
   "codemirror_mode": {
    "name": "ipython",
    "version": 3
   },
   "file_extension": ".py",
   "mimetype": "text/x-python",
   "name": "python",
   "nbconvert_exporter": "python",
   "pygments_lexer": "ipython3",
   "version": "3.11.1"
  }
 },
 "nbformat": 4,
 "nbformat_minor": 2
}
