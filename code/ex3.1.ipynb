{
 "cells": [
  {
   "cell_type": "markdown",
   "metadata": {},
   "source": [
    "EXERCISE 3.1"
   ]
  },
  {
   "cell_type": "code",
   "execution_count": 66,
   "metadata": {},
   "outputs": [],
   "source": [
    "import numpy as np \n",
    "from scipy.linalg import eigh\n",
    "from scipy.sparse.linalg import eigs\n",
    "from scipy.sparse.linalg import eigsh\n",
    "import matplotlib.pyplot as plt\n",
    "import time"
   ]
  },
  {
   "cell_type": "code",
   "execution_count": 55,
   "metadata": {},
   "outputs": [
    {
     "name": "stdout",
     "output_type": "stream",
     "text": [
      "[[-4.  1.  0.  0.  1.  0.  0.  0.  0.  0.  0.  0.  0.  0.  0.  0.]\n",
      " [ 1. -4.  1.  0.  0.  1.  0.  0.  0.  0.  0.  0.  0.  0.  0.  0.]\n",
      " [ 0.  1. -4.  1.  0.  0.  1.  0.  0.  0.  0.  0.  0.  0.  0.  0.]\n",
      " [ 0.  0.  1. -4.  0.  0.  0.  1.  0.  0.  0.  0.  0.  0.  0.  0.]\n",
      " [ 1.  0.  0.  0. -4.  1.  0.  0.  1.  0.  0.  0.  0.  0.  0.  0.]\n",
      " [ 0.  1.  0.  0.  1. -4.  1.  0.  0.  1.  0.  0.  0.  0.  0.  0.]\n",
      " [ 0.  0.  1.  0.  0.  1. -4.  1.  0.  0.  1.  0.  0.  0.  0.  0.]\n",
      " [ 0.  0.  0.  1.  0.  0.  1. -4.  0.  0.  0.  1.  0.  0.  0.  0.]\n",
      " [ 0.  0.  0.  0.  1.  0.  0.  0. -4.  1.  0.  0.  1.  0.  0.  0.]\n",
      " [ 0.  0.  0.  0.  0.  1.  0.  0.  1. -4.  1.  0.  0.  1.  0.  0.]\n",
      " [ 0.  0.  0.  0.  0.  0.  1.  0.  0.  1. -4.  1.  0.  0.  1.  0.]\n",
      " [ 0.  0.  0.  0.  0.  0.  0.  1.  0.  0.  1. -4.  0.  0.  0.  1.]\n",
      " [ 0.  0.  0.  0.  0.  0.  0.  0.  1.  0.  0.  0. -4.  1.  0.  0.]\n",
      " [ 0.  0.  0.  0.  0.  0.  0.  0.  0.  1.  0.  0.  1. -4.  1.  0.]\n",
      " [ 0.  0.  0.  0.  0.  0.  0.  0.  0.  0.  1.  0.  0.  1. -4.  1.]\n",
      " [ 0.  0.  0.  0.  0.  0.  0.  0.  0.  0.  0.  1.  0.  0.  1. -4.]]\n"
     ]
    }
   ],
   "source": [
    "def laplacian_square(n):\n",
    "    N = n * n  \n",
    "    laplacian = np.zeros((N, N)) \n",
    "    for i in range(N): # walk over matrix one row at the time \n",
    "        laplacian[i, i] = -4  # diagonals always 4 \n",
    "        if i - 1 >= 0 and (i % n) != 0:  # checks for left neigbour only when its bigger than 0 \n",
    "            laplacian[i, i - 1] = 1 # left neighbour -1\n",
    "        if i + 1 < N and (i % n) != (n - 1):   # second condition prevends that its not on right edge\n",
    "            laplacian[i, i + 1] = 1\n",
    "        if i - n >= 0: # i-n >0 means that the first 4 points in grid dont have a top neighbour so we dont use them\n",
    "            laplacian[i, i - n] = 1 # point 5 has neighbour at y = 1\n",
    "        if i + n < N:  # not bigger than 16 to prevent bottom\n",
    "            laplacian[i, i + n] = 1 # point 5 has neigbour 9 below as n\n",
    "    return laplacian\n",
    "print(laplacian_square(4))"
   ]
  },
  {
   "cell_type": "code",
   "execution_count": null,
   "metadata": {},
   "outputs": [
    {
     "name": "stdout",
     "output_type": "stream",
     "text": [
      "[[-4.  1.  0.  0.  0.  0.  1.  0.  0.  0.  0.  0.  0.  0.  0.  0.  0.  0.]\n",
      " [ 1. -4.  1.  0.  0.  0.  0.  1.  0.  0.  0.  0.  0.  0.  0.  0.  0.  0.]\n",
      " [ 0.  1. -4.  0.  0.  0.  0.  0.  1.  0.  0.  0.  0.  0.  0.  0.  0.  0.]\n",
      " [ 0.  0.  1. -4.  1.  0.  0.  0.  0.  1.  0.  0.  0.  0.  0.  0.  0.  0.]\n",
      " [ 0.  0.  0.  1. -4.  1.  0.  0.  0.  0.  1.  0.  0.  0.  0.  0.  0.  0.]\n",
      " [ 0.  0.  0.  0.  1. -4.  0.  0.  0.  0.  0.  1.  0.  0.  0.  0.  0.  0.]\n",
      " [ 1.  0.  0.  0.  0.  1. -4.  1.  0.  0.  0.  0.  1.  0.  0.  0.  0.  0.]\n",
      " [ 0.  1.  0.  0.  0.  0.  1. -4.  1.  0.  0.  0.  0.  1.  0.  0.  0.  0.]\n",
      " [ 0.  0.  1.  0.  0.  0.  0.  1. -4.  0.  0.  0.  0.  0.  1.  0.  0.  0.]\n",
      " [ 0.  0.  0.  1.  0.  0.  0.  0.  1. -4.  1.  0.  0.  0.  0.  1.  0.  0.]\n",
      " [ 0.  0.  0.  0.  1.  0.  0.  0.  0.  1. -4.  1.  0.  0.  0.  0.  1.  0.]\n",
      " [ 0.  0.  0.  0.  0.  1.  0.  0.  0.  0.  1. -4.  0.  0.  0.  0.  0.  1.]\n",
      " [ 0.  0.  0.  0.  0.  0.  1.  0.  0.  0.  0.  1. -4.  1.  0.  0.  0.  0.]\n",
      " [ 0.  0.  0.  0.  0.  0.  0.  1.  0.  0.  0.  0.  1. -4.  1.  0.  0.  0.]\n",
      " [ 0.  0.  0.  0.  0.  0.  0.  0.  1.  0.  0.  0.  0.  1. -4.  0.  0.  0.]\n",
      " [ 0.  0.  0.  0.  0.  0.  0.  0.  0.  1.  0.  0.  0.  0.  1. -4.  1.  0.]\n",
      " [ 0.  0.  0.  0.  0.  0.  0.  0.  0.  0.  1.  0.  0.  0.  0.  1. -4.  1.]\n",
      " [ 0.  0.  0.  0.  0.  0.  0.  0.  0.  0.  0.  1.  0.  0.  0.  0.  1. -4.]]\n"
     ]
    }
   ],
   "source": [
    "def laplacian_rectangle(n,m): #DEZE MOET NOG SYMMETRISCH GEMAAKT WORDEN.\n",
    "    # n  = 2 , m = 2*n\n",
    "    N = n * m \n",
    "    laplacian = np.zeros((N, N)) \n",
    "    for i in range(N): \n",
    "        laplacian[i, i] = -4\n",
    "        if i - 1 >= 0: \n",
    "            laplacian[i, i - 1] = 1 \n",
    "        if i + 1 < N and (i % n) != (n - 1):   \n",
    "            laplacian[i, i + 1] = 1\n",
    "        if i - m >= 0:\n",
    "            laplacian[i, i - m] = 1 \n",
    "        if i + m < N:  \n",
    "            laplacian[i, i + m] = 1 \n",
    "    return laplacian\n",
    "print(laplacian_rectangle(3,6))"
   ]
  },
  {
   "cell_type": "code",
   "execution_count": null,
   "metadata": {},
   "outputs": [
    {
     "name": "stdout",
     "output_type": "stream",
     "text": [
      "[2, 6, 7, 8, 10, 11, 12, 13, 14, 16, 17, 18, 22]\n",
      "13\n",
      "[[ 0.  0.  0.  0.  0.  0.  0.  0.  0.  0.  0.  0.  0.  0.  0.  0.  0.  0.\n",
      "   0.  0.  0.  0.  0.  0.  0.]\n",
      " [ 0.  0.  1.  0.  0.  0.  1.  0.  0.  0.  0.  0.  0.  0.  0.  0.  0.  0.\n",
      "   0.  0.  0.  0.  0.  0.  0.]\n",
      " [ 0.  0. -4.  0.  0.  0.  0.  1.  0.  0.  0.  0.  0.  0.  0.  0.  0.  0.\n",
      "   0.  0.  0.  0.  0.  0.  0.]\n",
      " [ 0.  0.  1.  0.  0.  0.  0.  0.  1.  0.  0.  0.  0.  0.  0.  0.  0.  0.\n",
      "   0.  0.  0.  0.  0.  0.  0.]\n",
      " [ 0.  0.  0.  0.  0.  0.  0.  0.  0.  0.  0.  0.  0.  0.  0.  0.  0.  0.\n",
      "   0.  0.  0.  0.  0.  0.  0.]\n",
      " [ 0.  0.  0.  0.  0.  0.  1.  0.  0.  0.  1.  0.  0.  0.  0.  0.  0.  0.\n",
      "   0.  0.  0.  0.  0.  0.  0.]\n",
      " [ 0.  0.  0.  0.  0.  0. -4.  1.  0.  0.  0.  1.  0.  0.  0.  0.  0.  0.\n",
      "   0.  0.  0.  0.  0.  0.  0.]\n",
      " [ 0.  0.  1.  0.  0.  0.  1. -4.  1.  0.  0.  0.  1.  0.  0.  0.  0.  0.\n",
      "   0.  0.  0.  0.  0.  0.  0.]\n",
      " [ 0.  0.  0.  0.  0.  0.  0.  1. -4.  0.  0.  0.  0.  1.  0.  0.  0.  0.\n",
      "   0.  0.  0.  0.  0.  0.  0.]\n",
      " [ 0.  0.  0.  0.  0.  0.  0.  0.  1.  0.  1.  0.  0.  0.  1.  0.  0.  0.\n",
      "   0.  0.  0.  0.  0.  0.  0.]\n",
      " [ 0.  0.  0.  0.  0.  0.  0.  0.  0.  0. -4.  1.  0.  0.  0.  0.  0.  0.\n",
      "   0.  0.  0.  0.  0.  0.  0.]\n",
      " [ 0.  0.  0.  0.  0.  0.  1.  0.  0.  0.  1. -4.  1.  0.  0.  0.  1.  0.\n",
      "   0.  0.  0.  0.  0.  0.  0.]\n",
      " [ 0.  0.  0.  0.  0.  0.  0.  1.  0.  0.  0.  1. -4.  1.  0.  0.  0.  1.\n",
      "   0.  0.  0.  0.  0.  0.  0.]\n",
      " [ 0.  0.  0.  0.  0.  0.  0.  0.  1.  0.  0.  0.  1. -4.  1.  0.  0.  0.\n",
      "   1.  0.  0.  0.  0.  0.  0.]\n",
      " [ 0.  0.  0.  0.  0.  0.  0.  0.  0.  0.  0.  0.  0.  1. -4.  0.  0.  0.\n",
      "   0.  0.  0.  0.  0.  0.  0.]\n",
      " [ 0.  0.  0.  0.  0.  0.  0.  0.  0.  0.  1.  0.  0.  0.  0.  0.  1.  0.\n",
      "   0.  0.  0.  0.  0.  0.  0.]\n",
      " [ 0.  0.  0.  0.  0.  0.  0.  0.  0.  0.  0.  1.  0.  0.  0.  0. -4.  1.\n",
      "   0.  0.  0.  0.  0.  0.  0.]\n",
      " [ 0.  0.  0.  0.  0.  0.  0.  0.  0.  0.  0.  0.  1.  0.  0.  0.  1. -4.\n",
      "   1.  0.  0.  0.  1.  0.  0.]\n",
      " [ 0.  0.  0.  0.  0.  0.  0.  0.  0.  0.  0.  0.  0.  1.  0.  0.  0.  1.\n",
      "  -4.  0.  0.  0.  0.  0.  0.]\n",
      " [ 0.  0.  0.  0.  0.  0.  0.  0.  0.  0.  0.  0.  0.  0.  1.  0.  0.  0.\n",
      "   1.  0.  0.  0.  0.  0.  0.]\n",
      " [ 0.  0.  0.  0.  0.  0.  0.  0.  0.  0.  0.  0.  0.  0.  0.  0.  0.  0.\n",
      "   0.  0.  0.  0.  0.  0.  0.]\n",
      " [ 0.  0.  0.  0.  0.  0.  0.  0.  0.  0.  0.  0.  0.  0.  0.  0.  1.  0.\n",
      "   0.  0.  0.  0.  1.  0.  0.]\n",
      " [ 0.  0.  0.  0.  0.  0.  0.  0.  0.  0.  0.  0.  0.  0.  0.  0.  0.  1.\n",
      "   0.  0.  0.  0. -4.  0.  0.]\n",
      " [ 0.  0.  0.  0.  0.  0.  0.  0.  0.  0.  0.  0.  0.  0.  0.  0.  0.  0.\n",
      "   1.  0.  0.  0.  1.  0.  0.]\n",
      " [ 0.  0.  0.  0.  0.  0.  0.  0.  0.  0.  0.  0.  0.  0.  0.  0.  0.  0.\n",
      "   0.  0.  0.  0.  0.  0.  0.]]\n"
     ]
    }
   ],
   "source": [
    "def laplacian_circle(n,L): #HIER OOK CHECKEN OF HET KLOPT\n",
    "    N = n * n  \n",
    "    laplacian = np.zeros((N, N)) \n",
    "    R = L/2\n",
    "    points = []\n",
    "    \n",
    "    x = np.linspace(-L/2, L/2, n)\n",
    "    y = np.linspace(-L/2, L/2, n)\n",
    "    \n",
    "    for i in range(n):\n",
    "        for j in range(n):\n",
    "            if x[i]**2 + y[j]**2 <= R**2:\n",
    "                #points.append((i, j))\n",
    "                index = i * n + j  #convert point to index so (2,3) is index 11\n",
    "                points.append(index)\n",
    "    print(points)\n",
    "    print(len(points))\n",
    "    \n",
    "    for i in range(N):  \n",
    "        if i in points:  \n",
    "            laplacian[i, i] = -4  \n",
    "\n",
    "        if i - 1 in points and (i % n) != 0:  \n",
    "            laplacian[i, i - 1] = 1  \n",
    "        if i + 1 in points :  \n",
    "            laplacian[i, i + 1] = 1  \n",
    "        if i - n in points:  \n",
    "            laplacian[i, i - n] = 1  \n",
    "        if i + n in points:  \n",
    "            laplacian[i, i + n] = 1  \n",
    "\n",
    "    return laplacian\n",
    "print(laplacian_circle(5,1))"
   ]
  },
  {
   "cell_type": "markdown",
   "metadata": {},
   "source": [
    "Question B"
   ]
  },
  {
   "cell_type": "code",
   "execution_count": null,
   "metadata": {},
   "outputs": [],
   "source": [
    "# square domain: \n",
    "# the matrix is symmetric, hence we use scipy.linalg.eigh() (symmetric matrices have real eigenvalues)\n",
    "# eigs is also an option as the majority of the entries is 0.\n",
    "# IS ER EEN CONDITIE VOOR DE GRID SIZE?? ZE ZEGGEN ALLEEN L=1\n",
    "\n",
    "square_100 = laplacian_square(100) #s.t. for L=1, h=0.01"
   ]
  },
  {
   "cell_type": "code",
   "execution_count": 58,
   "metadata": {},
   "outputs": [],
   "source": [
    "eigenvalue_square_100, eigenvector_square_100 = eigh(square_100)"
   ]
  },
  {
   "cell_type": "code",
   "execution_count": 63,
   "metadata": {},
   "outputs": [
    {
     "data": {
      "image/png": "[encoded data removed]",
      "text/plain": [
       "<Figure size 640x480 with 1 Axes>"
      ]
     },
     "metadata": {},
     "output_type": "display_data"
    }
   ],
   "source": [
    "index_of_smallest_eigenvalue = np.argsort(eigenvalue_square_100)[:12]\n",
    "plt.figure()\n",
    "plt.plot(eigenvector_square_100[:,index_of_smallest_eigenvalue[0]], label = f' (λ={eigenvalue_square_100[index_of_smallest_eigenvalue[0]]:.2f})',color = 'red')\n",
    "plt.plot(eigenvector_square_100[:,index_of_smallest_eigenvalue[2]], label = f' (λ={eigenvalue_square_100[index_of_smallest_eigenvalue[2]]:.2f})',color = 'blue')\n",
    "plt.plot(eigenvector_square_100[:,index_of_smallest_eigenvalue[4]], label = f' (λ={eigenvalue_square_100[index_of_smallest_eigenvalue[4]]:.2f})',color = 'green')\n",
    "#plt.plot(eigenvector_square_100[:,index_of_smallest_eigenvalue[6]], label = f' (λ={eigenvalue_square_100[index_of_smallest_eigenvalue[6]]:.2f})',color = 'yellow')\n",
    "\n",
    "plt.legend()\n",
    "plt.xlabel('Index')\n",
    "plt.ylabel('Eigenvectors corresponding to smallest λ')\n",
    "plt.title('Eigenvectors')\n",
    "plt.show()\n"
   ]
  },
  {
   "cell_type": "markdown",
   "metadata": {},
   "source": [
    "Question C"
   ]
  },
  {
   "cell_type": "code",
   "execution_count": null,
   "metadata": {},
   "outputs": [],
   "source": [
    "# Here we compare the computational speed to the case where scipy.sparse is used\n",
    "\n",
    "# IK SNAP DIT NIET ZO GOED, eigs() is volgens mij alleen een ding bij scipy.sparse. \n",
    "# Bovendien neemt scipy.sparse.eigs() alleen de eerste k eigenvalues."
   ]
  },
  {
   "cell_type": "code",
   "execution_count": 72,
   "metadata": {},
   "outputs": [
    {
     "name": "stdout",
     "output_type": "stream",
     "text": [
      "It takes scipy sparse 50.463862 seconds\n"
     ]
    }
   ],
   "source": [
    "A_sparse = time.time()\n",
    "\n",
    "DDD = eigs(square_100) #eigs is from scipy sparse\n",
    "\n",
    "B_sparse = time.time()\n",
    "\n",
    "print(f\"It takes scipy sparse {B_sparse - A_sparse:.6f} seconds\")\n",
    "\n"
   ]
  },
  {
   "cell_type": "code",
   "execution_count": null,
   "metadata": {},
   "outputs": [],
   "source": [
    "A_not_sparse = time.time()\n",
    "\n",
    "eigh(square_100)\n",
    "\n",
    "B_not_sparse = time.time()\n",
    "\n",
    "print(f\"It takes scipy eigh {B_not_sparse - A_not_sparse:.6f} seconds\")"
   ]
  },
  {
   "cell_type": "markdown",
   "metadata": {},
   "source": [
    "Question D"
   ]
  },
  {
   "cell_type": "code",
   "execution_count": null,
   "metadata": {},
   "outputs": [],
   "source": [
    "# IMO hangen deze frequencies juist alleen maar af van de grid size en kan L altijd gewoon 1 zijn. \n",
    "\n",
    "# L = 1 met met h=0.01 is toch precies hetzelfde als L=2 met h=0.02? "
   ]
  },
  {
   "cell_type": "markdown",
   "metadata": {},
   "source": [
    "Question E"
   ]
  },
  {
   "cell_type": "code",
   "execution_count": null,
   "metadata": {},
   "outputs": [],
   "source": [
    "# for each specific eigenmode we have a value for K (which is negative), \n",
    "# hence we have a value for \\lambda. \n",
    "# we still need initial conditions to obtain A and B is equation (22)."
   ]
  }
 ],
 "metadata": {
  "kernelspec": {
   "display_name": "Python 3",
   "language": "python",
   "name": "python3"
  },
  "language_info": {
   "codemirror_mode": {
    "name": "ipython",
    "version": 3
   },
   "file_extension": ".py",
   "mimetype": "text/x-python",
   "name": "python",
   "nbconvert_exporter": "python",
   "pygments_lexer": "ipython3",
   "version": "3.11.1"
  }
 },
 "nbformat": 4,
 "nbformat_minor": 4
}
